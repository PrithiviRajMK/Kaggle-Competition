{
 "cells": [
  {
   "cell_type": "code",
   "execution_count": 1,
   "id": "august-questionnaire",
   "metadata": {
    "_cell_guid": "b1076dfc-b9ad-4769-8c92-a6c4dae69d19",
    "_uuid": "8f2839f25d086af736a60e9eeb907d3b93b6e0e5",
    "execution": {
     "iopub.execute_input": "2021-05-18T13:01:33.725580Z",
     "iopub.status.busy": "2021-05-18T13:01:33.724591Z",
     "iopub.status.idle": "2021-05-18T13:01:34.846645Z",
     "shell.execute_reply": "2021-05-18T13:01:34.847389Z"
    },
    "papermill": {
     "duration": 1.152454,
     "end_time": "2021-05-18T13:01:34.847745",
     "exception": false,
     "start_time": "2021-05-18T13:01:33.695291",
     "status": "completed"
    },
    "tags": []
   },
   "outputs": [
    {
     "name": "stdout",
     "output_type": "stream",
     "text": [
      "/kaggle/input/titanic/train.csv\n",
      "/kaggle/input/titanic/test.csv\n",
      "/kaggle/input/titanic/gender_submission.csv\n"
     ]
    }
   ],
   "source": [
    "# This Python 3 environment comes with many helpful analytics libraries installed\n",
    "# It is defined by the kaggle/python Docker image: https://github.com/kaggle/docker-python\n",
    "# For example, here's several helpful packages to load\n",
    "\n",
    "import numpy as np # linear algebra\n",
    "import pandas as pd # data processing, CSV file I/O (e.g. pd.read_csv)\n",
    "import matplotlib.pyplot as plt\n",
    "from sklearn.naive_bayes import GaussianNB\n",
    "from sklearn.ensemble import RandomForestClassifier\n",
    "\n",
    "# Input data files are available in the read-only \"../input/\" directory\n",
    "# For example, running this (by clicking run or pressing Shift+Enter) will list all files under the input directory\n",
    "\n",
    "import os\n",
    "for dirname, _, filenames in os.walk('/kaggle/input'):\n",
    "    for filename in filenames:\n",
    "        print(os.path.join(dirname, filename))\n",
    "\n",
    "# You can write up to 20GB to the current directory (/kaggle/working/) that gets preserved as output when you create a version using \"Save & Run All\" \n",
    "# You can also write temporary files to /kaggle/temp/, but they won't be saved outside of the current session"
   ]
  },
  {
   "cell_type": "code",
   "execution_count": 2,
   "id": "aging-walnut",
   "metadata": {
    "execution": {
     "iopub.execute_input": "2021-05-18T13:01:34.900734Z",
     "iopub.status.busy": "2021-05-18T13:01:34.900119Z",
     "iopub.status.idle": "2021-05-18T13:01:34.939420Z",
     "shell.execute_reply": "2021-05-18T13:01:34.939869Z"
    },
    "papermill": {
     "duration": 0.066551,
     "end_time": "2021-05-18T13:01:34.940020",
     "exception": false,
     "start_time": "2021-05-18T13:01:34.873469",
     "status": "completed"
    },
    "tags": []
   },
   "outputs": [
    {
     "data": {
      "text/html": [
       "<div>\n",
       "<style scoped>\n",
       "    .dataframe tbody tr th:only-of-type {\n",
       "        vertical-align: middle;\n",
       "    }\n",
       "\n",
       "    .dataframe tbody tr th {\n",
       "        vertical-align: top;\n",
       "    }\n",
       "\n",
       "    .dataframe thead th {\n",
       "        text-align: right;\n",
       "    }\n",
       "</style>\n",
       "<table border=\"1\" class=\"dataframe\">\n",
       "  <thead>\n",
       "    <tr style=\"text-align: right;\">\n",
       "      <th></th>\n",
       "      <th>PassengerId</th>\n",
       "      <th>Survived</th>\n",
       "      <th>Pclass</th>\n",
       "      <th>Name</th>\n",
       "      <th>Sex</th>\n",
       "      <th>Age</th>\n",
       "      <th>SibSp</th>\n",
       "      <th>Parch</th>\n",
       "      <th>Ticket</th>\n",
       "      <th>Fare</th>\n",
       "      <th>Cabin</th>\n",
       "      <th>Embarked</th>\n",
       "    </tr>\n",
       "  </thead>\n",
       "  <tbody>\n",
       "    <tr>\n",
       "      <th>0</th>\n",
       "      <td>1</td>\n",
       "      <td>0</td>\n",
       "      <td>3</td>\n",
       "      <td>Braund, Mr. Owen Harris</td>\n",
       "      <td>male</td>\n",
       "      <td>22.0</td>\n",
       "      <td>1</td>\n",
       "      <td>0</td>\n",
       "      <td>A/5 21171</td>\n",
       "      <td>7.2500</td>\n",
       "      <td>NaN</td>\n",
       "      <td>S</td>\n",
       "    </tr>\n",
       "    <tr>\n",
       "      <th>1</th>\n",
       "      <td>2</td>\n",
       "      <td>1</td>\n",
       "      <td>1</td>\n",
       "      <td>Cumings, Mrs. John Bradley (Florence Briggs Th...</td>\n",
       "      <td>female</td>\n",
       "      <td>38.0</td>\n",
       "      <td>1</td>\n",
       "      <td>0</td>\n",
       "      <td>PC 17599</td>\n",
       "      <td>71.2833</td>\n",
       "      <td>C85</td>\n",
       "      <td>C</td>\n",
       "    </tr>\n",
       "    <tr>\n",
       "      <th>2</th>\n",
       "      <td>3</td>\n",
       "      <td>1</td>\n",
       "      <td>3</td>\n",
       "      <td>Heikkinen, Miss. Laina</td>\n",
       "      <td>female</td>\n",
       "      <td>26.0</td>\n",
       "      <td>0</td>\n",
       "      <td>0</td>\n",
       "      <td>STON/O2. 3101282</td>\n",
       "      <td>7.9250</td>\n",
       "      <td>NaN</td>\n",
       "      <td>S</td>\n",
       "    </tr>\n",
       "    <tr>\n",
       "      <th>3</th>\n",
       "      <td>4</td>\n",
       "      <td>1</td>\n",
       "      <td>1</td>\n",
       "      <td>Futrelle, Mrs. Jacques Heath (Lily May Peel)</td>\n",
       "      <td>female</td>\n",
       "      <td>35.0</td>\n",
       "      <td>1</td>\n",
       "      <td>0</td>\n",
       "      <td>113803</td>\n",
       "      <td>53.1000</td>\n",
       "      <td>C123</td>\n",
       "      <td>S</td>\n",
       "    </tr>\n",
       "    <tr>\n",
       "      <th>4</th>\n",
       "      <td>5</td>\n",
       "      <td>0</td>\n",
       "      <td>3</td>\n",
       "      <td>Allen, Mr. William Henry</td>\n",
       "      <td>male</td>\n",
       "      <td>35.0</td>\n",
       "      <td>0</td>\n",
       "      <td>0</td>\n",
       "      <td>373450</td>\n",
       "      <td>8.0500</td>\n",
       "      <td>NaN</td>\n",
       "      <td>S</td>\n",
       "    </tr>\n",
       "  </tbody>\n",
       "</table>\n",
       "</div>"
      ],
      "text/plain": [
       "   PassengerId  Survived  Pclass  \\\n",
       "0            1         0       3   \n",
       "1            2         1       1   \n",
       "2            3         1       3   \n",
       "3            4         1       1   \n",
       "4            5         0       3   \n",
       "\n",
       "                                                Name     Sex   Age  SibSp  \\\n",
       "0                            Braund, Mr. Owen Harris    male  22.0      1   \n",
       "1  Cumings, Mrs. John Bradley (Florence Briggs Th...  female  38.0      1   \n",
       "2                             Heikkinen, Miss. Laina  female  26.0      0   \n",
       "3       Futrelle, Mrs. Jacques Heath (Lily May Peel)  female  35.0      1   \n",
       "4                           Allen, Mr. William Henry    male  35.0      0   \n",
       "\n",
       "   Parch            Ticket     Fare Cabin Embarked  \n",
       "0      0         A/5 21171   7.2500   NaN        S  \n",
       "1      0          PC 17599  71.2833   C85        C  \n",
       "2      0  STON/O2. 3101282   7.9250   NaN        S  \n",
       "3      0            113803  53.1000  C123        S  \n",
       "4      0            373450   8.0500   NaN        S  "
      ]
     },
     "execution_count": 2,
     "metadata": {},
     "output_type": "execute_result"
    }
   ],
   "source": [
    "import pandas as pd\n",
    "df=pd.read_csv(\"../input/titanic/train.csv\")\n",
    "df.head()"
   ]
  },
  {
   "cell_type": "code",
   "execution_count": 3,
   "id": "forbidden-symphony",
   "metadata": {
    "execution": {
     "iopub.execute_input": "2021-05-18T13:01:34.991889Z",
     "iopub.status.busy": "2021-05-18T13:01:34.991335Z",
     "iopub.status.idle": "2021-05-18T13:01:35.021393Z",
     "shell.execute_reply": "2021-05-18T13:01:35.021843Z"
    },
    "papermill": {
     "duration": 0.057429,
     "end_time": "2021-05-18T13:01:35.021999",
     "exception": false,
     "start_time": "2021-05-18T13:01:34.964570",
     "status": "completed"
    },
    "tags": []
   },
   "outputs": [
    {
     "data": {
      "text/html": [
       "<div>\n",
       "<style scoped>\n",
       "    .dataframe tbody tr th:only-of-type {\n",
       "        vertical-align: middle;\n",
       "    }\n",
       "\n",
       "    .dataframe tbody tr th {\n",
       "        vertical-align: top;\n",
       "    }\n",
       "\n",
       "    .dataframe thead th {\n",
       "        text-align: right;\n",
       "    }\n",
       "</style>\n",
       "<table border=\"1\" class=\"dataframe\">\n",
       "  <thead>\n",
       "    <tr style=\"text-align: right;\">\n",
       "      <th></th>\n",
       "      <th>PassengerId</th>\n",
       "      <th>Survived</th>\n",
       "      <th>Pclass</th>\n",
       "      <th>Age</th>\n",
       "      <th>SibSp</th>\n",
       "      <th>Parch</th>\n",
       "      <th>Fare</th>\n",
       "    </tr>\n",
       "  </thead>\n",
       "  <tbody>\n",
       "    <tr>\n",
       "      <th>count</th>\n",
       "      <td>891.000000</td>\n",
       "      <td>891.000000</td>\n",
       "      <td>891.000000</td>\n",
       "      <td>714.000000</td>\n",
       "      <td>891.000000</td>\n",
       "      <td>891.000000</td>\n",
       "      <td>891.000000</td>\n",
       "    </tr>\n",
       "    <tr>\n",
       "      <th>mean</th>\n",
       "      <td>446.000000</td>\n",
       "      <td>0.383838</td>\n",
       "      <td>2.308642</td>\n",
       "      <td>29.699118</td>\n",
       "      <td>0.523008</td>\n",
       "      <td>0.381594</td>\n",
       "      <td>32.204208</td>\n",
       "    </tr>\n",
       "    <tr>\n",
       "      <th>std</th>\n",
       "      <td>257.353842</td>\n",
       "      <td>0.486592</td>\n",
       "      <td>0.836071</td>\n",
       "      <td>14.526497</td>\n",
       "      <td>1.102743</td>\n",
       "      <td>0.806057</td>\n",
       "      <td>49.693429</td>\n",
       "    </tr>\n",
       "    <tr>\n",
       "      <th>min</th>\n",
       "      <td>1.000000</td>\n",
       "      <td>0.000000</td>\n",
       "      <td>1.000000</td>\n",
       "      <td>0.420000</td>\n",
       "      <td>0.000000</td>\n",
       "      <td>0.000000</td>\n",
       "      <td>0.000000</td>\n",
       "    </tr>\n",
       "    <tr>\n",
       "      <th>25%</th>\n",
       "      <td>223.500000</td>\n",
       "      <td>0.000000</td>\n",
       "      <td>2.000000</td>\n",
       "      <td>20.125000</td>\n",
       "      <td>0.000000</td>\n",
       "      <td>0.000000</td>\n",
       "      <td>7.910400</td>\n",
       "    </tr>\n",
       "    <tr>\n",
       "      <th>50%</th>\n",
       "      <td>446.000000</td>\n",
       "      <td>0.000000</td>\n",
       "      <td>3.000000</td>\n",
       "      <td>28.000000</td>\n",
       "      <td>0.000000</td>\n",
       "      <td>0.000000</td>\n",
       "      <td>14.454200</td>\n",
       "    </tr>\n",
       "    <tr>\n",
       "      <th>75%</th>\n",
       "      <td>668.500000</td>\n",
       "      <td>1.000000</td>\n",
       "      <td>3.000000</td>\n",
       "      <td>38.000000</td>\n",
       "      <td>1.000000</td>\n",
       "      <td>0.000000</td>\n",
       "      <td>31.000000</td>\n",
       "    </tr>\n",
       "    <tr>\n",
       "      <th>max</th>\n",
       "      <td>891.000000</td>\n",
       "      <td>1.000000</td>\n",
       "      <td>3.000000</td>\n",
       "      <td>80.000000</td>\n",
       "      <td>8.000000</td>\n",
       "      <td>6.000000</td>\n",
       "      <td>512.329200</td>\n",
       "    </tr>\n",
       "  </tbody>\n",
       "</table>\n",
       "</div>"
      ],
      "text/plain": [
       "       PassengerId    Survived      Pclass         Age       SibSp  \\\n",
       "count   891.000000  891.000000  891.000000  714.000000  891.000000   \n",
       "mean    446.000000    0.383838    2.308642   29.699118    0.523008   \n",
       "std     257.353842    0.486592    0.836071   14.526497    1.102743   \n",
       "min       1.000000    0.000000    1.000000    0.420000    0.000000   \n",
       "25%     223.500000    0.000000    2.000000   20.125000    0.000000   \n",
       "50%     446.000000    0.000000    3.000000   28.000000    0.000000   \n",
       "75%     668.500000    1.000000    3.000000   38.000000    1.000000   \n",
       "max     891.000000    1.000000    3.000000   80.000000    8.000000   \n",
       "\n",
       "            Parch        Fare  \n",
       "count  891.000000  891.000000  \n",
       "mean     0.381594   32.204208  \n",
       "std      0.806057   49.693429  \n",
       "min      0.000000    0.000000  \n",
       "25%      0.000000    7.910400  \n",
       "50%      0.000000   14.454200  \n",
       "75%      0.000000   31.000000  \n",
       "max      6.000000  512.329200  "
      ]
     },
     "execution_count": 3,
     "metadata": {},
     "output_type": "execute_result"
    }
   ],
   "source": [
    "df.describe()"
   ]
  },
  {
   "cell_type": "markdown",
   "id": "meaning-means",
   "metadata": {
    "papermill": {
     "duration": 0.026166,
     "end_time": "2021-05-18T13:01:35.073976",
     "exception": false,
     "start_time": "2021-05-18T13:01:35.047810",
     "status": "completed"
    },
    "tags": []
   },
   "source": [
    "Now we have a general idea of the data set contents."
   ]
  },
  {
   "cell_type": "code",
   "execution_count": 4,
   "id": "abstract-carolina",
   "metadata": {
    "execution": {
     "iopub.execute_input": "2021-05-18T13:01:35.131716Z",
     "iopub.status.busy": "2021-05-18T13:01:35.131112Z",
     "iopub.status.idle": "2021-05-18T13:01:35.293221Z",
     "shell.execute_reply": "2021-05-18T13:01:35.292748Z"
    },
    "papermill": {
     "duration": 0.191797,
     "end_time": "2021-05-18T13:01:35.293367",
     "exception": false,
     "start_time": "2021-05-18T13:01:35.101570",
     "status": "completed"
    },
    "tags": []
   },
   "outputs": [
    {
     "name": "stdout",
     "output_type": "stream",
     "text": [
      "0    549\n",
      "1    342\n",
      "Name: Survived, dtype: int64\n"
     ]
    },
    {
     "data": {
      "image/png": "[encoded data removed]",
      "text/plain": [
       "<Figure size 432x288 with 1 Axes>"
      ]
     },
     "metadata": {
      "needs_background": "light"
     },
     "output_type": "display_data"
    }
   ],
   "source": [
    "df['Survived'].value_counts().plot(kind='bar', title='Death and Survival Counts',grid=True)\n",
    "print(df['Survived'].value_counts())\n",
    "plt.show()"
   ]
  },
  {
   "cell_type": "markdown",
   "id": "hired-journalist",
   "metadata": {
    "papermill": {
     "duration": 0.025581,
     "end_time": "2021-05-18T13:01:35.346470",
     "exception": false,
     "start_time": "2021-05-18T13:01:35.320889",
     "status": "completed"
    },
    "tags": []
   },
   "source": [
    "From this,we infer that majority of people did not survive the accident."
   ]
  },
  {
   "cell_type": "code",
   "execution_count": 5,
   "id": "wound-chain",
   "metadata": {
    "execution": {
     "iopub.execute_input": "2021-05-18T13:01:35.426338Z",
     "iopub.status.busy": "2021-05-18T13:01:35.421709Z",
     "iopub.status.idle": "2021-05-18T13:01:35.509021Z",
     "shell.execute_reply": "2021-05-18T13:01:35.509454Z"
    },
    "papermill": {
     "duration": 0.137612,
     "end_time": "2021-05-18T13:01:35.509618",
     "exception": false,
     "start_time": "2021-05-18T13:01:35.372006",
     "status": "completed"
    },
    "tags": []
   },
   "outputs": [
    {
     "name": "stdout",
     "output_type": "stream",
     "text": [
      "male      577\n",
      "female    314\n",
      "Name: Sex, dtype: int64\n"
     ]
    },
    {
     "data": {
      "image/png": "[encoded data removed]",
      "text/plain": [
       "<Figure size 432x288 with 1 Axes>"
      ]
     },
     "metadata": {
      "needs_background": "light"
     },
     "output_type": "display_data"
    }
   ],
   "source": [
    "df['Sex'].value_counts().plot(kind='bar', title='Sex')\n",
    "print(df['Sex'].value_counts())\n",
    "plt.show()"
   ]
  },
  {
   "cell_type": "markdown",
   "id": "exotic-rebate",
   "metadata": {
    "papermill": {
     "duration": 0.027446,
     "end_time": "2021-05-18T13:01:35.564153",
     "exception": false,
     "start_time": "2021-05-18T13:01:35.536707",
     "status": "completed"
    },
    "tags": []
   },
   "source": [
    "\n",
    "It can be infered that the majority of people in the ship were male"
   ]
  },
  {
   "cell_type": "code",
   "execution_count": 6,
   "id": "specific-sandwich",
   "metadata": {
    "execution": {
     "iopub.execute_input": "2021-05-18T13:01:35.640757Z",
     "iopub.status.busy": "2021-05-18T13:01:35.629063Z",
     "iopub.status.idle": "2021-05-18T13:01:35.734286Z",
     "shell.execute_reply": "2021-05-18T13:01:35.734770Z"
    },
    "papermill": {
     "duration": 0.144337,
     "end_time": "2021-05-18T13:01:35.734941",
     "exception": false,
     "start_time": "2021-05-18T13:01:35.590604",
     "status": "completed"
    },
    "tags": []
   },
   "outputs": [
    {
     "name": "stdout",
     "output_type": "stream",
     "text": [
      "3    491\n",
      "1    216\n",
      "2    184\n",
      "Name: Pclass, dtype: int64\n"
     ]
    },
    {
     "data": {
      "image/png": "[encoded data removed]",
      "text/plain": [
       "<Figure size 432x288 with 1 Axes>"
      ]
     },
     "metadata": {
      "needs_background": "light"
     },
     "output_type": "display_data"
    }
   ],
   "source": [
    "df['Pclass'].value_counts().plot(kind='bar', title='Passenger Class',alpha=0.90,grid=True)\n",
    "print(df['Pclass'].value_counts())\n",
    "plt.show()"
   ]
  },
  {
   "cell_type": "markdown",
   "id": "invalid-skating",
   "metadata": {
    "papermill": {
     "duration": 0.027708,
     "end_time": "2021-05-18T13:01:35.789775",
     "exception": false,
     "start_time": "2021-05-18T13:01:35.762067",
     "status": "completed"
    },
    "tags": []
   },
   "source": [
    "It can be infered that the largest number of passengers were in class 3 followed by class 1 and class 2."
   ]
  },
  {
   "cell_type": "code",
   "execution_count": 7,
   "id": "lined-sweden",
   "metadata": {
    "execution": {
     "iopub.execute_input": "2021-05-18T13:01:35.852555Z",
     "iopub.status.busy": "2021-05-18T13:01:35.851945Z",
     "iopub.status.idle": "2021-05-18T13:01:36.003707Z",
     "shell.execute_reply": "2021-05-18T13:01:36.004127Z"
    },
    "papermill": {
     "duration": 0.185763,
     "end_time": "2021-05-18T13:01:36.004326",
     "exception": false,
     "start_time": "2021-05-18T13:01:35.818563",
     "status": "completed"
    },
    "tags": []
   },
   "outputs": [
    {
     "data": {
      "image/png": "[encoded data removed]",
      "text/plain": [
       "<Figure size 432x288 with 1 Axes>"
      ]
     },
     "metadata": {
      "needs_background": "light"
     },
     "output_type": "display_data"
    }
   ],
   "source": [
    "df['Age'].plot(kind='hist',title='Age',alpha=0.90,grid=True)\n",
    "plt.show()"
   ]
  },
  {
   "cell_type": "markdown",
   "id": "drawn-burke",
   "metadata": {
    "papermill": {
     "duration": 0.028773,
     "end_time": "2021-05-18T13:01:36.063008",
     "exception": false,
     "start_time": "2021-05-18T13:01:36.034235",
     "status": "completed"
    },
    "tags": []
   },
   "source": [
    "It can be infered that majority of passengers were in the age group 15-30 years."
   ]
  },
  {
   "cell_type": "markdown",
   "id": "indie-coast",
   "metadata": {
    "papermill": {
     "duration": 0.027842,
     "end_time": "2021-05-18T13:01:36.119527",
     "exception": false,
     "start_time": "2021-05-18T13:01:36.091685",
     "status": "completed"
    },
    "tags": []
   },
   "source": [
    "**Feature 1;Passenger Class**"
   ]
  },
  {
   "cell_type": "code",
   "execution_count": 8,
   "id": "convertible-district",
   "metadata": {
    "execution": {
     "iopub.execute_input": "2021-05-18T13:01:36.179232Z",
     "iopub.status.busy": "2021-05-18T13:01:36.178671Z",
     "iopub.status.idle": "2021-05-18T13:01:36.460125Z",
     "shell.execute_reply": "2021-05-18T13:01:36.460518Z"
    },
    "papermill": {
     "duration": 0.312897,
     "end_time": "2021-05-18T13:01:36.460688",
     "exception": false,
     "start_time": "2021-05-18T13:01:36.147791",
     "status": "completed"
    },
    "tags": []
   },
   "outputs": [
    {
     "data": {
      "image/png": "[encoded data removed]",
      "text/plain": [
       "<Figure size 432x288 with 1 Axes>"
      ]
     },
     "metadata": {
      "needs_background": "light"
     },
     "output_type": "display_data"
    }
   ],
   "source": [
    "rel_1=pd.crosstab(df['Pclass'],df['Survived'])\n",
    "rel_1_normalize = rel_1.div(rel_1.sum(1).astype(float), axis=0)\n",
    "rel_1_normalize.plot(kind='bar',title='Survival Rate by Passenger Classes',stacked=True,grid=True)\n",
    "plt.xlabel('Passenger Class')\n",
    "plt.ylabel('Survival Rate')\n",
    "plt.show()"
   ]
  },
  {
   "cell_type": "markdown",
   "id": "italic-constitution",
   "metadata": {
    "papermill": {
     "duration": 0.029856,
     "end_time": "2021-05-18T13:01:36.519351",
     "exception": false,
     "start_time": "2021-05-18T13:01:36.489495",
     "status": "completed"
    },
    "tags": []
   },
   "source": [
    " This Shows that the First class has the highest Chance for Survival."
   ]
  },
  {
   "cell_type": "markdown",
   "id": "cosmetic-colombia",
   "metadata": {
    "papermill": {
     "duration": 0.029881,
     "end_time": "2021-05-18T13:01:36.578776",
     "exception": false,
     "start_time": "2021-05-18T13:01:36.548895",
     "status": "completed"
    },
    "tags": []
   },
   "source": [
    "**Feature2 : Sex**\n",
    "We'll need to map Sex from a string to a number to prepare it for machine learning algorithms."
   ]
  },
  {
   "cell_type": "code",
   "execution_count": 9,
   "id": "amateur-share",
   "metadata": {
    "execution": {
     "iopub.execute_input": "2021-05-18T13:01:36.650704Z",
     "iopub.status.busy": "2021-05-18T13:01:36.650036Z",
     "iopub.status.idle": "2021-05-18T13:01:36.677253Z",
     "shell.execute_reply": "2021-05-18T13:01:36.677962Z"
    },
    "papermill": {
     "duration": 0.06932,
     "end_time": "2021-05-18T13:01:36.678204",
     "exception": false,
     "start_time": "2021-05-18T13:01:36.608884",
     "status": "completed"
    },
    "tags": []
   },
   "outputs": [
    {
     "data": {
      "text/html": [
       "<div>\n",
       "<style scoped>\n",
       "    .dataframe tbody tr th:only-of-type {\n",
       "        vertical-align: middle;\n",
       "    }\n",
       "\n",
       "    .dataframe tbody tr th {\n",
       "        vertical-align: top;\n",
       "    }\n",
       "\n",
       "    .dataframe thead th {\n",
       "        text-align: right;\n",
       "    }\n",
       "</style>\n",
       "<table border=\"1\" class=\"dataframe\">\n",
       "  <thead>\n",
       "    <tr style=\"text-align: right;\">\n",
       "      <th></th>\n",
       "      <th>PassengerId</th>\n",
       "      <th>Survived</th>\n",
       "      <th>Pclass</th>\n",
       "      <th>Name</th>\n",
       "      <th>Sex</th>\n",
       "      <th>Age</th>\n",
       "      <th>SibSp</th>\n",
       "      <th>Parch</th>\n",
       "      <th>Ticket</th>\n",
       "      <th>Fare</th>\n",
       "      <th>Cabin</th>\n",
       "      <th>Embarked</th>\n",
       "      <th>Sex_Val</th>\n",
       "    </tr>\n",
       "  </thead>\n",
       "  <tbody>\n",
       "    <tr>\n",
       "      <th>0</th>\n",
       "      <td>1</td>\n",
       "      <td>0</td>\n",
       "      <td>3</td>\n",
       "      <td>Braund, Mr. Owen Harris</td>\n",
       "      <td>male</td>\n",
       "      <td>22.0</td>\n",
       "      <td>1</td>\n",
       "      <td>0</td>\n",
       "      <td>A/5 21171</td>\n",
       "      <td>7.2500</td>\n",
       "      <td>NaN</td>\n",
       "      <td>S</td>\n",
       "      <td>1</td>\n",
       "    </tr>\n",
       "    <tr>\n",
       "      <th>1</th>\n",
       "      <td>2</td>\n",
       "      <td>1</td>\n",
       "      <td>1</td>\n",
       "      <td>Cumings, Mrs. John Bradley (Florence Briggs Th...</td>\n",
       "      <td>female</td>\n",
       "      <td>38.0</td>\n",
       "      <td>1</td>\n",
       "      <td>0</td>\n",
       "      <td>PC 17599</td>\n",
       "      <td>71.2833</td>\n",
       "      <td>C85</td>\n",
       "      <td>C</td>\n",
       "      <td>0</td>\n",
       "    </tr>\n",
       "    <tr>\n",
       "      <th>2</th>\n",
       "      <td>3</td>\n",
       "      <td>1</td>\n",
       "      <td>3</td>\n",
       "      <td>Heikkinen, Miss. Laina</td>\n",
       "      <td>female</td>\n",
       "      <td>26.0</td>\n",
       "      <td>0</td>\n",
       "      <td>0</td>\n",
       "      <td>STON/O2. 3101282</td>\n",
       "      <td>7.9250</td>\n",
       "      <td>NaN</td>\n",
       "      <td>S</td>\n",
       "      <td>0</td>\n",
       "    </tr>\n",
       "    <tr>\n",
       "      <th>3</th>\n",
       "      <td>4</td>\n",
       "      <td>1</td>\n",
       "      <td>1</td>\n",
       "      <td>Futrelle, Mrs. Jacques Heath (Lily May Peel)</td>\n",
       "      <td>female</td>\n",
       "      <td>35.0</td>\n",
       "      <td>1</td>\n",
       "      <td>0</td>\n",
       "      <td>113803</td>\n",
       "      <td>53.1000</td>\n",
       "      <td>C123</td>\n",
       "      <td>S</td>\n",
       "      <td>0</td>\n",
       "    </tr>\n",
       "    <tr>\n",
       "      <th>4</th>\n",
       "      <td>5</td>\n",
       "      <td>0</td>\n",
       "      <td>3</td>\n",
       "      <td>Allen, Mr. William Henry</td>\n",
       "      <td>male</td>\n",
       "      <td>35.0</td>\n",
       "      <td>0</td>\n",
       "      <td>0</td>\n",
       "      <td>373450</td>\n",
       "      <td>8.0500</td>\n",
       "      <td>NaN</td>\n",
       "      <td>S</td>\n",
       "      <td>1</td>\n",
       "    </tr>\n",
       "    <tr>\n",
       "      <th>5</th>\n",
       "      <td>6</td>\n",
       "      <td>0</td>\n",
       "      <td>3</td>\n",
       "      <td>Moran, Mr. James</td>\n",
       "      <td>male</td>\n",
       "      <td>NaN</td>\n",
       "      <td>0</td>\n",
       "      <td>0</td>\n",
       "      <td>330877</td>\n",
       "      <td>8.4583</td>\n",
       "      <td>NaN</td>\n",
       "      <td>Q</td>\n",
       "      <td>1</td>\n",
       "    </tr>\n",
       "    <tr>\n",
       "      <th>6</th>\n",
       "      <td>7</td>\n",
       "      <td>0</td>\n",
       "      <td>1</td>\n",
       "      <td>McCarthy, Mr. Timothy J</td>\n",
       "      <td>male</td>\n",
       "      <td>54.0</td>\n",
       "      <td>0</td>\n",
       "      <td>0</td>\n",
       "      <td>17463</td>\n",
       "      <td>51.8625</td>\n",
       "      <td>E46</td>\n",
       "      <td>S</td>\n",
       "      <td>1</td>\n",
       "    </tr>\n",
       "    <tr>\n",
       "      <th>7</th>\n",
       "      <td>8</td>\n",
       "      <td>0</td>\n",
       "      <td>3</td>\n",
       "      <td>Palsson, Master. Gosta Leonard</td>\n",
       "      <td>male</td>\n",
       "      <td>2.0</td>\n",
       "      <td>3</td>\n",
       "      <td>1</td>\n",
       "      <td>349909</td>\n",
       "      <td>21.0750</td>\n",
       "      <td>NaN</td>\n",
       "      <td>S</td>\n",
       "      <td>1</td>\n",
       "    </tr>\n",
       "    <tr>\n",
       "      <th>8</th>\n",
       "      <td>9</td>\n",
       "      <td>1</td>\n",
       "      <td>3</td>\n",
       "      <td>Johnson, Mrs. Oscar W (Elisabeth Vilhelmina Berg)</td>\n",
       "      <td>female</td>\n",
       "      <td>27.0</td>\n",
       "      <td>0</td>\n",
       "      <td>2</td>\n",
       "      <td>347742</td>\n",
       "      <td>11.1333</td>\n",
       "      <td>NaN</td>\n",
       "      <td>S</td>\n",
       "      <td>0</td>\n",
       "    </tr>\n",
       "    <tr>\n",
       "      <th>9</th>\n",
       "      <td>10</td>\n",
       "      <td>1</td>\n",
       "      <td>2</td>\n",
       "      <td>Nasser, Mrs. Nicholas (Adele Achem)</td>\n",
       "      <td>female</td>\n",
       "      <td>14.0</td>\n",
       "      <td>1</td>\n",
       "      <td>0</td>\n",
       "      <td>237736</td>\n",
       "      <td>30.0708</td>\n",
       "      <td>NaN</td>\n",
       "      <td>C</td>\n",
       "      <td>0</td>\n",
       "    </tr>\n",
       "  </tbody>\n",
       "</table>\n",
       "</div>"
      ],
      "text/plain": [
       "   PassengerId  Survived  Pclass  \\\n",
       "0            1         0       3   \n",
       "1            2         1       1   \n",
       "2            3         1       3   \n",
       "3            4         1       1   \n",
       "4            5         0       3   \n",
       "5            6         0       3   \n",
       "6            7         0       1   \n",
       "7            8         0       3   \n",
       "8            9         1       3   \n",
       "9           10         1       2   \n",
       "\n",
       "                                                Name     Sex   Age  SibSp  \\\n",
       "0                            Braund, Mr. Owen Harris    male  22.0      1   \n",
       "1  Cumings, Mrs. John Bradley (Florence Briggs Th...  female  38.0      1   \n",
       "2                             Heikkinen, Miss. Laina  female  26.0      0   \n",
       "3       Futrelle, Mrs. Jacques Heath (Lily May Peel)  female  35.0      1   \n",
       "4                           Allen, Mr. William Henry    male  35.0      0   \n",
       "5                                   Moran, Mr. James    male   NaN      0   \n",
       "6                            McCarthy, Mr. Timothy J    male  54.0      0   \n",
       "7                     Palsson, Master. Gosta Leonard    male   2.0      3   \n",
       "8  Johnson, Mrs. Oscar W (Elisabeth Vilhelmina Berg)  female  27.0      0   \n",
       "9                Nasser, Mrs. Nicholas (Adele Achem)  female  14.0      1   \n",
       "\n",
       "   Parch            Ticket     Fare Cabin Embarked  Sex_Val  \n",
       "0      0         A/5 21171   7.2500   NaN        S        1  \n",
       "1      0          PC 17599  71.2833   C85        C        0  \n",
       "2      0  STON/O2. 3101282   7.9250   NaN        S        0  \n",
       "3      0            113803  53.1000  C123        S        0  \n",
       "4      0            373450   8.0500   NaN        S        1  \n",
       "5      0            330877   8.4583   NaN        Q        1  \n",
       "6      0             17463  51.8625   E46        S        1  \n",
       "7      1            349909  21.0750   NaN        S        1  \n",
       "8      2            347742  11.1333   NaN        S        0  \n",
       "9      0            237736  30.0708   NaN        C        0  "
      ]
     },
     "execution_count": 9,
     "metadata": {},
     "output_type": "execute_result"
    }
   ],
   "source": [
    "sexes = sorted(df['Sex'].unique())\n",
    "genders_mapping = dict(zip(sexes, range(0, len(sexes) + 1)))\n",
    "df['Sex_Val'] = df['Sex'].map(genders_mapping).astype(int)\n",
    "df.head(10)"
   ]
  },
  {
   "cell_type": "code",
   "execution_count": 10,
   "id": "failing-television",
   "metadata": {
    "execution": {
     "iopub.execute_input": "2021-05-18T13:01:36.760798Z",
     "iopub.status.busy": "2021-05-18T13:01:36.760123Z",
     "iopub.status.idle": "2021-05-18T13:01:36.918724Z",
     "shell.execute_reply": "2021-05-18T13:01:36.918081Z"
    },
    "papermill": {
     "duration": 0.195444,
     "end_time": "2021-05-18T13:01:36.918859",
     "exception": false,
     "start_time": "2021-05-18T13:01:36.723415",
     "status": "completed"
    },
    "tags": []
   },
   "outputs": [
    {
     "data": {
      "image/png": "[encoded data removed]",
      "text/plain": [
       "<Figure size 432x288 with 1 Axes>"
      ]
     },
     "metadata": {
      "needs_background": "light"
     },
     "output_type": "display_data"
    }
   ],
   "source": [
    "rel_2=pd.crosstab(df['Sex'],df['Survived'])\n",
    "rel_2_normalize=rel_2.div(rel_2.sum(1).astype(float),axis=0)\n",
    "rel_2_normalize.plot(kind='bar',title='Survival Rate by Sex',stacked=True,grid=True) \n",
    "plt.xlabel('Sex')\n",
    "plt.ylabel('Survival Rate')\n",
    "plt.show()"
   ]
  },
  {
   "cell_type": "markdown",
   "id": "characteristic-evaluation",
   "metadata": {
    "papermill": {
     "duration": 0.03241,
     "end_time": "2021-05-18T13:01:36.982391",
     "exception": false,
     "start_time": "2021-05-18T13:01:36.949981",
     "status": "completed"
    },
    "tags": []
   },
   "source": [
    "The majority of females survived, whereas the majority of males did not.\n",
    "\n",
    "Count males and females in each Pclass:"
   ]
  },
  {
   "cell_type": "code",
   "execution_count": 11,
   "id": "german-flour",
   "metadata": {
    "execution": {
     "iopub.execute_input": "2021-05-18T13:01:37.050789Z",
     "iopub.status.busy": "2021-05-18T13:01:37.049908Z",
     "iopub.status.idle": "2021-05-18T13:01:37.054114Z",
     "shell.execute_reply": "2021-05-18T13:01:37.053536Z"
    },
    "papermill": {
     "duration": 0.041266,
     "end_time": "2021-05-18T13:01:37.054263",
     "exception": false,
     "start_time": "2021-05-18T13:01:37.012997",
     "status": "completed"
    },
    "tags": []
   },
   "outputs": [
    {
     "data": {
      "text/plain": [
       "[1, 2, 3]"
      ]
     },
     "execution_count": 11,
     "metadata": {},
     "output_type": "execute_result"
    }
   ],
   "source": [
    "# Get the unique values of Pclass:\n",
    "passenger_classes = sorted(df['Pclass'].unique())\n",
    "passenger_classes"
   ]
  },
  {
   "cell_type": "code",
   "execution_count": 12,
   "id": "sophisticated-genealogy",
   "metadata": {
    "execution": {
     "iopub.execute_input": "2021-05-18T13:01:37.143931Z",
     "iopub.status.busy": "2021-05-18T13:01:37.139243Z",
     "iopub.status.idle": "2021-05-18T13:01:37.150518Z",
     "shell.execute_reply": "2021-05-18T13:01:37.151002Z"
    },
    "papermill": {
     "duration": 0.060668,
     "end_time": "2021-05-18T13:01:37.151175",
     "exception": false,
     "start_time": "2021-05-18T13:01:37.090507",
     "status": "completed"
    },
    "tags": []
   },
   "outputs": [
    {
     "name": "stdout",
     "output_type": "stream",
     "text": [
      "M :  1 122\n",
      "F :  1 94\n",
      "M :  2 108\n",
      "F :  2 76\n",
      "M :  3 347\n",
      "F :  3 144\n"
     ]
    }
   ],
   "source": [
    "for i in passenger_classes:\n",
    "        print ('M : ',i ,len(df[(df['Sex'] == 'male')  & (df['Pclass'] == i)]))\n",
    "        print ('F : ',i ,len(df[(df['Sex'] =='female') & (df['Pclass'] == i)]))\n",
    "male=df[df['Sex']=='male']\n",
    "female=df[df['Sex']=='female']"
   ]
  },
  {
   "cell_type": "markdown",
   "id": "certified-engine",
   "metadata": {
    "papermill": {
     "duration": 0.031745,
     "end_time": "2021-05-18T13:01:37.215592",
     "exception": false,
     "start_time": "2021-05-18T13:01:37.183847",
     "status": "completed"
    },
    "tags": []
   },
   "source": [
    "Plot survival rate by Sex and Pclass:"
   ]
  },
  {
   "cell_type": "code",
   "execution_count": 13,
   "id": "norwegian-convergence",
   "metadata": {
    "execution": {
     "iopub.execute_input": "2021-05-18T13:01:37.284722Z",
     "iopub.status.busy": "2021-05-18T13:01:37.284094Z",
     "iopub.status.idle": "2021-05-18T13:01:37.582367Z",
     "shell.execute_reply": "2021-05-18T13:01:37.581914Z"
    },
    "papermill": {
     "duration": 0.336527,
     "end_time": "2021-05-18T13:01:37.582494",
     "exception": false,
     "start_time": "2021-05-18T13:01:37.245967",
     "status": "completed"
    },
    "tags": []
   },
   "outputs": [
    {
     "data": {
      "image/png": "[encoded data removed]",
      "text/plain": [
       "<Figure size 432x288 with 1 Axes>"
      ]
     },
     "metadata": {
      "needs_background": "light"
     },
     "output_type": "display_data"
    },
    {
     "data": {
      "image/png": "[encoded data removed]",
      "text/plain": [
       "<Figure size 432x288 with 1 Axes>"
      ]
     },
     "metadata": {
      "needs_background": "light"
     },
     "output_type": "display_data"
    }
   ],
   "source": [
    "male_rel=pd.crosstab(male['Pclass'],male['Survived'])\n",
    "male_rel_normalize=male_rel.div(male_rel.sum(1).astype(float),axis=0)\n",
    "male_rel_normalize.plot(kind='bar',title='Survival rate of male by passenger classes',stacked='True',grid='True')\n",
    "plt.xlabel('Passenger Class')\n",
    "plt.ylabel('Survival Rate')\n",
    "plt.show()\n",
    "female_rel=pd.crosstab(female['Pclass'],female['Survived'])\n",
    "female_rel_normalize=female_rel.div(female_rel.sum(1).astype(float),axis=0)\n",
    "female_rel_normalize.plot(kind='bar',title='Survival rate of female by passenger classes',stacked='True',grid='True')\n",
    "plt.xlabel('Passenger Class')\n",
    "plt.ylabel('Survival Rate')\n",
    "plt.show()"
   ]
  },
  {
   "cell_type": "markdown",
   "id": "blank-bankruptcy",
   "metadata": {
    "papermill": {
     "duration": 0.031266,
     "end_time": "2021-05-18T13:01:37.645684",
     "exception": false,
     "start_time": "2021-05-18T13:01:37.614418",
     "status": "completed"
    },
    "tags": []
   },
   "source": [
    "**Feature3 : Embraked**"
   ]
  },
  {
   "cell_type": "code",
   "execution_count": 14,
   "id": "useful-nickel",
   "metadata": {
    "execution": {
     "iopub.execute_input": "2021-05-18T13:01:37.716924Z",
     "iopub.status.busy": "2021-05-18T13:01:37.716203Z",
     "iopub.status.idle": "2021-05-18T13:01:37.858303Z",
     "shell.execute_reply": "2021-05-18T13:01:37.857732Z"
    },
    "papermill": {
     "duration": 0.181161,
     "end_time": "2021-05-18T13:01:37.858434",
     "exception": false,
     "start_time": "2021-05-18T13:01:37.677273",
     "status": "completed"
    },
    "tags": []
   },
   "outputs": [
    {
     "data": {
      "image/png": "[encoded data removed]",
      "text/plain": [
       "<Figure size 432x288 with 1 Axes>"
      ]
     },
     "metadata": {
      "needs_background": "light"
     },
     "output_type": "display_data"
    }
   ],
   "source": [
    "df['Embarked_Value']=df['Embarked']\n",
    "df['Embarked_Value'].replace(['C','Q','S'],[1,2,3],inplace=True)\n",
    "embarked_locs = sorted(df['Embarked_Value'].unique())\n",
    "\n",
    "df['Embarked_Value'].plot(kind='hist',bins=3,range=(1,3),grid='True')\n",
    "plt.title('Port of Embarkation Histogram')\n",
    "plt.xlabel('Port of Embarkation')\n",
    "plt.ylabel('Count')\n",
    "plt.show()"
   ]
  },
  {
   "cell_type": "markdown",
   "id": "robust-israel",
   "metadata": {
    "papermill": {
     "duration": 0.033257,
     "end_time": "2021-05-18T13:01:37.924397",
     "exception": false,
     "start_time": "2021-05-18T13:01:37.891140",
     "status": "completed"
    },
    "tags": []
   },
   "source": [
    "Since the majority of passengers embarked in 'S': 3, we assign the missing values in Embarked to 'S':"
   ]
  },
  {
   "cell_type": "code",
   "execution_count": 15,
   "id": "obvious-attribute",
   "metadata": {
    "execution": {
     "iopub.execute_input": "2021-05-18T13:01:38.009812Z",
     "iopub.status.busy": "2021-05-18T13:01:38.003432Z",
     "iopub.status.idle": "2021-05-18T13:01:38.013793Z",
     "shell.execute_reply": "2021-05-18T13:01:38.014345Z"
    },
    "papermill": {
     "duration": 0.056511,
     "end_time": "2021-05-18T13:01:38.014537",
     "exception": false,
     "start_time": "2021-05-18T13:01:37.958026",
     "status": "completed"
    },
    "tags": []
   },
   "outputs": [
    {
     "data": {
      "text/html": [
       "<div>\n",
       "<style scoped>\n",
       "    .dataframe tbody tr th:only-of-type {\n",
       "        vertical-align: middle;\n",
       "    }\n",
       "\n",
       "    .dataframe tbody tr th {\n",
       "        vertical-align: top;\n",
       "    }\n",
       "\n",
       "    .dataframe thead th {\n",
       "        text-align: right;\n",
       "    }\n",
       "</style>\n",
       "<table border=\"1\" class=\"dataframe\">\n",
       "  <thead>\n",
       "    <tr style=\"text-align: right;\">\n",
       "      <th></th>\n",
       "      <th>PassengerId</th>\n",
       "      <th>Survived</th>\n",
       "      <th>Pclass</th>\n",
       "      <th>Name</th>\n",
       "      <th>Sex</th>\n",
       "      <th>Age</th>\n",
       "      <th>SibSp</th>\n",
       "      <th>Parch</th>\n",
       "      <th>Ticket</th>\n",
       "      <th>Fare</th>\n",
       "      <th>Cabin</th>\n",
       "      <th>Embarked</th>\n",
       "      <th>Sex_Val</th>\n",
       "      <th>Embarked_Value</th>\n",
       "    </tr>\n",
       "  </thead>\n",
       "  <tbody>\n",
       "    <tr>\n",
       "      <th>61</th>\n",
       "      <td>62</td>\n",
       "      <td>1</td>\n",
       "      <td>1</td>\n",
       "      <td>Icard, Miss. Amelie</td>\n",
       "      <td>female</td>\n",
       "      <td>38.0</td>\n",
       "      <td>0</td>\n",
       "      <td>0</td>\n",
       "      <td>113572</td>\n",
       "      <td>80.0</td>\n",
       "      <td>B28</td>\n",
       "      <td>NaN</td>\n",
       "      <td>0</td>\n",
       "      <td>NaN</td>\n",
       "    </tr>\n",
       "    <tr>\n",
       "      <th>829</th>\n",
       "      <td>830</td>\n",
       "      <td>1</td>\n",
       "      <td>1</td>\n",
       "      <td>Stone, Mrs. George Nelson (Martha Evelyn)</td>\n",
       "      <td>female</td>\n",
       "      <td>62.0</td>\n",
       "      <td>0</td>\n",
       "      <td>0</td>\n",
       "      <td>113572</td>\n",
       "      <td>80.0</td>\n",
       "      <td>B28</td>\n",
       "      <td>NaN</td>\n",
       "      <td>0</td>\n",
       "      <td>NaN</td>\n",
       "    </tr>\n",
       "  </tbody>\n",
       "</table>\n",
       "</div>"
      ],
      "text/plain": [
       "     PassengerId  Survived  Pclass                                       Name  \\\n",
       "61            62         1       1                        Icard, Miss. Amelie   \n",
       "829          830         1       1  Stone, Mrs. George Nelson (Martha Evelyn)   \n",
       "\n",
       "        Sex   Age  SibSp  Parch  Ticket  Fare Cabin Embarked  Sex_Val  \\\n",
       "61   female  38.0      0      0  113572  80.0   B28      NaN        0   \n",
       "829  female  62.0      0      0  113572  80.0   B28      NaN        0   \n",
       "\n",
       "     Embarked_Value  \n",
       "61              NaN  \n",
       "829             NaN  "
      ]
     },
     "execution_count": 15,
     "metadata": {},
     "output_type": "execute_result"
    }
   ],
   "source": [
    "df[df['Embarked'].isnull()]"
   ]
  },
  {
   "cell_type": "code",
   "execution_count": 16,
   "id": "numerical-stretch",
   "metadata": {
    "execution": {
     "iopub.execute_input": "2021-05-18T13:01:38.090835Z",
     "iopub.status.busy": "2021-05-18T13:01:38.090124Z",
     "iopub.status.idle": "2021-05-18T13:01:38.094084Z",
     "shell.execute_reply": "2021-05-18T13:01:38.093529Z"
    },
    "papermill": {
     "duration": 0.044683,
     "end_time": "2021-05-18T13:01:38.094248",
     "exception": false,
     "start_time": "2021-05-18T13:01:38.049565",
     "status": "completed"
    },
    "tags": []
   },
   "outputs": [
    {
     "data": {
      "text/plain": [
       "[1.0, 2.0, 3.0]"
      ]
     },
     "execution_count": 16,
     "metadata": {},
     "output_type": "execute_result"
    }
   ],
   "source": [
    "df['Embarked_Value']=df['Embarked_Value'].fillna(3)\n",
    "embarked_locs = sorted(df['Embarked_Value'].unique())\n",
    "embarked_locs"
   ]
  },
  {
   "cell_type": "code",
   "execution_count": 17,
   "id": "informal-forth",
   "metadata": {
    "execution": {
     "iopub.execute_input": "2021-05-18T13:01:38.180832Z",
     "iopub.status.busy": "2021-05-18T13:01:38.176075Z",
     "iopub.status.idle": "2021-05-18T13:01:38.328557Z",
     "shell.execute_reply": "2021-05-18T13:01:38.327992Z"
    },
    "papermill": {
     "duration": 0.197891,
     "end_time": "2021-05-18T13:01:38.328725",
     "exception": false,
     "start_time": "2021-05-18T13:01:38.130834",
     "status": "completed"
    },
    "tags": []
   },
   "outputs": [
    {
     "data": {
      "image/png": "[encoded data removed]",
      "text/plain": [
       "<Figure size 432x288 with 1 Axes>"
      ]
     },
     "metadata": {
      "needs_background": "light"
     },
     "output_type": "display_data"
    }
   ],
   "source": [
    "embarked_rel=pd.crosstab(df['Embarked_Value'],df['Survived'])\n",
    "embarked_rel_normalize=embarked_rel.div(embarked_rel.sum(1).astype(float),axis=0)\n",
    "embarked_rel_normalize.plot(kind='bar',title='Survival Rate by Port of Embarkation',grid='True',stacked='True')\n",
    "plt.xlabel('Port of Embarkation')\n",
    "plt.ylabel('Survival Rate')\n",
    "plt.show()"
   ]
  },
  {
   "cell_type": "markdown",
   "id": "registered-hundred",
   "metadata": {
    "papermill": {
     "duration": 0.033948,
     "end_time": "2021-05-18T13:01:38.397424",
     "exception": false,
     "start_time": "2021-05-18T13:01:38.363476",
     "status": "completed"
    },
    "tags": []
   },
   "source": [
    "**Feature4 : Age**"
   ]
  },
  {
   "cell_type": "code",
   "execution_count": 18,
   "id": "detailed-floating",
   "metadata": {
    "execution": {
     "iopub.execute_input": "2021-05-18T13:01:38.483975Z",
     "iopub.status.busy": "2021-05-18T13:01:38.483427Z",
     "iopub.status.idle": "2021-05-18T13:01:38.487145Z",
     "shell.execute_reply": "2021-05-18T13:01:38.486721Z"
    },
    "papermill": {
     "duration": 0.055455,
     "end_time": "2021-05-18T13:01:38.487283",
     "exception": false,
     "start_time": "2021-05-18T13:01:38.431828",
     "status": "completed"
    },
    "tags": []
   },
   "outputs": [
    {
     "data": {
      "text/html": [
       "<div>\n",
       "<style scoped>\n",
       "    .dataframe tbody tr th:only-of-type {\n",
       "        vertical-align: middle;\n",
       "    }\n",
       "\n",
       "    .dataframe tbody tr th {\n",
       "        vertical-align: top;\n",
       "    }\n",
       "\n",
       "    .dataframe thead th {\n",
       "        text-align: right;\n",
       "    }\n",
       "</style>\n",
       "<table border=\"1\" class=\"dataframe\">\n",
       "  <thead>\n",
       "    <tr style=\"text-align: right;\">\n",
       "      <th></th>\n",
       "      <th>PassengerId</th>\n",
       "      <th>Survived</th>\n",
       "      <th>Pclass</th>\n",
       "      <th>Name</th>\n",
       "      <th>Sex</th>\n",
       "      <th>Age</th>\n",
       "      <th>SibSp</th>\n",
       "      <th>Parch</th>\n",
       "      <th>Ticket</th>\n",
       "      <th>Fare</th>\n",
       "      <th>Cabin</th>\n",
       "      <th>Embarked</th>\n",
       "      <th>Sex_Val</th>\n",
       "      <th>Embarked_Value</th>\n",
       "    </tr>\n",
       "  </thead>\n",
       "  <tbody>\n",
       "    <tr>\n",
       "      <th>5</th>\n",
       "      <td>6</td>\n",
       "      <td>0</td>\n",
       "      <td>3</td>\n",
       "      <td>Moran, Mr. James</td>\n",
       "      <td>male</td>\n",
       "      <td>NaN</td>\n",
       "      <td>0</td>\n",
       "      <td>0</td>\n",
       "      <td>330877</td>\n",
       "      <td>8.4583</td>\n",
       "      <td>NaN</td>\n",
       "      <td>Q</td>\n",
       "      <td>1</td>\n",
       "      <td>2.0</td>\n",
       "    </tr>\n",
       "    <tr>\n",
       "      <th>17</th>\n",
       "      <td>18</td>\n",
       "      <td>1</td>\n",
       "      <td>2</td>\n",
       "      <td>Williams, Mr. Charles Eugene</td>\n",
       "      <td>male</td>\n",
       "      <td>NaN</td>\n",
       "      <td>0</td>\n",
       "      <td>0</td>\n",
       "      <td>244373</td>\n",
       "      <td>13.0000</td>\n",
       "      <td>NaN</td>\n",
       "      <td>S</td>\n",
       "      <td>1</td>\n",
       "      <td>3.0</td>\n",
       "    </tr>\n",
       "    <tr>\n",
       "      <th>19</th>\n",
       "      <td>20</td>\n",
       "      <td>1</td>\n",
       "      <td>3</td>\n",
       "      <td>Masselmani, Mrs. Fatima</td>\n",
       "      <td>female</td>\n",
       "      <td>NaN</td>\n",
       "      <td>0</td>\n",
       "      <td>0</td>\n",
       "      <td>2649</td>\n",
       "      <td>7.2250</td>\n",
       "      <td>NaN</td>\n",
       "      <td>C</td>\n",
       "      <td>0</td>\n",
       "      <td>1.0</td>\n",
       "    </tr>\n",
       "    <tr>\n",
       "      <th>26</th>\n",
       "      <td>27</td>\n",
       "      <td>0</td>\n",
       "      <td>3</td>\n",
       "      <td>Emir, Mr. Farred Chehab</td>\n",
       "      <td>male</td>\n",
       "      <td>NaN</td>\n",
       "      <td>0</td>\n",
       "      <td>0</td>\n",
       "      <td>2631</td>\n",
       "      <td>7.2250</td>\n",
       "      <td>NaN</td>\n",
       "      <td>C</td>\n",
       "      <td>1</td>\n",
       "      <td>1.0</td>\n",
       "    </tr>\n",
       "    <tr>\n",
       "      <th>28</th>\n",
       "      <td>29</td>\n",
       "      <td>1</td>\n",
       "      <td>3</td>\n",
       "      <td>O'Dwyer, Miss. Ellen \"Nellie\"</td>\n",
       "      <td>female</td>\n",
       "      <td>NaN</td>\n",
       "      <td>0</td>\n",
       "      <td>0</td>\n",
       "      <td>330959</td>\n",
       "      <td>7.8792</td>\n",
       "      <td>NaN</td>\n",
       "      <td>Q</td>\n",
       "      <td>0</td>\n",
       "      <td>2.0</td>\n",
       "    </tr>\n",
       "    <tr>\n",
       "      <th>29</th>\n",
       "      <td>30</td>\n",
       "      <td>0</td>\n",
       "      <td>3</td>\n",
       "      <td>Todoroff, Mr. Lalio</td>\n",
       "      <td>male</td>\n",
       "      <td>NaN</td>\n",
       "      <td>0</td>\n",
       "      <td>0</td>\n",
       "      <td>349216</td>\n",
       "      <td>7.8958</td>\n",
       "      <td>NaN</td>\n",
       "      <td>S</td>\n",
       "      <td>1</td>\n",
       "      <td>3.0</td>\n",
       "    </tr>\n",
       "    <tr>\n",
       "      <th>31</th>\n",
       "      <td>32</td>\n",
       "      <td>1</td>\n",
       "      <td>1</td>\n",
       "      <td>Spencer, Mrs. William Augustus (Marie Eugenie)</td>\n",
       "      <td>female</td>\n",
       "      <td>NaN</td>\n",
       "      <td>1</td>\n",
       "      <td>0</td>\n",
       "      <td>PC 17569</td>\n",
       "      <td>146.5208</td>\n",
       "      <td>B78</td>\n",
       "      <td>C</td>\n",
       "      <td>0</td>\n",
       "      <td>1.0</td>\n",
       "    </tr>\n",
       "    <tr>\n",
       "      <th>32</th>\n",
       "      <td>33</td>\n",
       "      <td>1</td>\n",
       "      <td>3</td>\n",
       "      <td>Glynn, Miss. Mary Agatha</td>\n",
       "      <td>female</td>\n",
       "      <td>NaN</td>\n",
       "      <td>0</td>\n",
       "      <td>0</td>\n",
       "      <td>335677</td>\n",
       "      <td>7.7500</td>\n",
       "      <td>NaN</td>\n",
       "      <td>Q</td>\n",
       "      <td>0</td>\n",
       "      <td>2.0</td>\n",
       "    </tr>\n",
       "    <tr>\n",
       "      <th>36</th>\n",
       "      <td>37</td>\n",
       "      <td>1</td>\n",
       "      <td>3</td>\n",
       "      <td>Mamee, Mr. Hanna</td>\n",
       "      <td>male</td>\n",
       "      <td>NaN</td>\n",
       "      <td>0</td>\n",
       "      <td>0</td>\n",
       "      <td>2677</td>\n",
       "      <td>7.2292</td>\n",
       "      <td>NaN</td>\n",
       "      <td>C</td>\n",
       "      <td>1</td>\n",
       "      <td>1.0</td>\n",
       "    </tr>\n",
       "    <tr>\n",
       "      <th>42</th>\n",
       "      <td>43</td>\n",
       "      <td>0</td>\n",
       "      <td>3</td>\n",
       "      <td>Kraeff, Mr. Theodor</td>\n",
       "      <td>male</td>\n",
       "      <td>NaN</td>\n",
       "      <td>0</td>\n",
       "      <td>0</td>\n",
       "      <td>349253</td>\n",
       "      <td>7.8958</td>\n",
       "      <td>NaN</td>\n",
       "      <td>C</td>\n",
       "      <td>1</td>\n",
       "      <td>1.0</td>\n",
       "    </tr>\n",
       "  </tbody>\n",
       "</table>\n",
       "</div>"
      ],
      "text/plain": [
       "    PassengerId  Survived  Pclass  \\\n",
       "5             6         0       3   \n",
       "17           18         1       2   \n",
       "19           20         1       3   \n",
       "26           27         0       3   \n",
       "28           29         1       3   \n",
       "29           30         0       3   \n",
       "31           32         1       1   \n",
       "32           33         1       3   \n",
       "36           37         1       3   \n",
       "42           43         0       3   \n",
       "\n",
       "                                              Name     Sex  Age  SibSp  Parch  \\\n",
       "5                                 Moran, Mr. James    male  NaN      0      0   \n",
       "17                    Williams, Mr. Charles Eugene    male  NaN      0      0   \n",
       "19                         Masselmani, Mrs. Fatima  female  NaN      0      0   \n",
       "26                         Emir, Mr. Farred Chehab    male  NaN      0      0   \n",
       "28                   O'Dwyer, Miss. Ellen \"Nellie\"  female  NaN      0      0   \n",
       "29                             Todoroff, Mr. Lalio    male  NaN      0      0   \n",
       "31  Spencer, Mrs. William Augustus (Marie Eugenie)  female  NaN      1      0   \n",
       "32                        Glynn, Miss. Mary Agatha  female  NaN      0      0   \n",
       "36                                Mamee, Mr. Hanna    male  NaN      0      0   \n",
       "42                             Kraeff, Mr. Theodor    male  NaN      0      0   \n",
       "\n",
       "      Ticket      Fare Cabin Embarked  Sex_Val  Embarked_Value  \n",
       "5     330877    8.4583   NaN        Q        1             2.0  \n",
       "17    244373   13.0000   NaN        S        1             3.0  \n",
       "19      2649    7.2250   NaN        C        0             1.0  \n",
       "26      2631    7.2250   NaN        C        1             1.0  \n",
       "28    330959    7.8792   NaN        Q        0             2.0  \n",
       "29    349216    7.8958   NaN        S        1             3.0  \n",
       "31  PC 17569  146.5208   B78        C        0             1.0  \n",
       "32    335677    7.7500   NaN        Q        0             2.0  \n",
       "36      2677    7.2292   NaN        C        1             1.0  \n",
       "42    349253    7.8958   NaN        C        1             1.0  "
      ]
     },
     "execution_count": 18,
     "metadata": {},
     "output_type": "execute_result"
    }
   ],
   "source": [
    "df[df['Age'].isnull()].head(10)"
   ]
  },
  {
   "cell_type": "markdown",
   "id": "sticky-prophet",
   "metadata": {
    "papermill": {
     "duration": 0.0356,
     "end_time": "2021-05-18T13:01:38.558469",
     "exception": false,
     "start_time": "2021-05-18T13:01:38.522869",
     "status": "completed"
    },
    "tags": []
   },
   "source": [
    "Here also many ages are missing. So we assign the missing ages the median values of the age according to their sex and passenger class."
   ]
  },
  {
   "cell_type": "code",
   "execution_count": 19,
   "id": "nervous-atlantic",
   "metadata": {
    "execution": {
     "iopub.execute_input": "2021-05-18T13:01:38.643899Z",
     "iopub.status.busy": "2021-05-18T13:01:38.643251Z",
     "iopub.status.idle": "2021-05-18T13:01:38.654011Z",
     "shell.execute_reply": "2021-05-18T13:01:38.654454Z"
    },
    "papermill": {
     "duration": 0.055277,
     "end_time": "2021-05-18T13:01:38.654621",
     "exception": false,
     "start_time": "2021-05-18T13:01:38.599344",
     "status": "completed"
    },
    "tags": []
   },
   "outputs": [
    {
     "data": {
      "text/plain": [
       "0    22.0\n",
       "1    38.0\n",
       "2    26.0\n",
       "3    35.0\n",
       "4    35.0\n",
       "5    25.0\n",
       "6    54.0\n",
       "7     2.0\n",
       "8    27.0\n",
       "9    14.0\n",
       "Name: Age_complete, dtype: float64"
      ]
     },
     "execution_count": 19,
     "metadata": {},
     "output_type": "execute_result"
    }
   ],
   "source": [
    "df['Age_complete'] = df['Age']\n",
    "df['Age_complete']=df['Age_complete'].groupby([df['Sex_Val'],df['Pclass']]).apply(lambda x: x.fillna(x.median()))\n",
    "df['Age_complete'].head(10)"
   ]
  },
  {
   "cell_type": "code",
   "execution_count": 20,
   "id": "third-prince",
   "metadata": {
    "execution": {
     "iopub.execute_input": "2021-05-18T13:01:38.756089Z",
     "iopub.status.busy": "2021-05-18T13:01:38.745003Z",
     "iopub.status.idle": "2021-05-18T13:01:38.920952Z",
     "shell.execute_reply": "2021-05-18T13:01:38.920377Z"
    },
    "papermill": {
     "duration": 0.230568,
     "end_time": "2021-05-18T13:01:38.921083",
     "exception": false,
     "start_time": "2021-05-18T13:01:38.690515",
     "status": "completed"
    },
    "tags": []
   },
   "outputs": [
    {
     "data": {
      "image/png": "[encoded data removed]",
      "text/plain": [
       "<Figure size 432x288 with 1 Axes>"
      ]
     },
     "metadata": {
      "needs_background": "light"
     },
     "output_type": "display_data"
    }
   ],
   "source": [
    "age_survived=df[df['Survived']==1]['Age_complete']\n",
    "age_not_survived = df[df['Survived'] == 0]['Age_complete']\n",
    "max_age=max(df['Age_complete'])\n",
    "\n",
    "plt.hist([age_survived,age_not_survived],bins=8,range=(1, max_age),stacked=True)\n",
    "plt.title('Survivors by Age Plot')\n",
    "plt.xlabel('Ages')\n",
    "plt.ylabel('Count')\n",
    "plt.legend(('Died', 'Survived'), loc='best')\n",
    "plt.show()"
   ]
  },
  {
   "cell_type": "code",
   "execution_count": 21,
   "id": "collaborative-commodity",
   "metadata": {
    "execution": {
     "iopub.execute_input": "2021-05-18T13:01:38.996932Z",
     "iopub.status.busy": "2021-05-18T13:01:38.996358Z",
     "iopub.status.idle": "2021-05-18T13:01:39.214411Z",
     "shell.execute_reply": "2021-05-18T13:01:39.214831Z"
    },
    "papermill": {
     "duration": 0.257756,
     "end_time": "2021-05-18T13:01:39.214992",
     "exception": false,
     "start_time": "2021-05-18T13:01:38.957236",
     "status": "completed"
    },
    "tags": []
   },
   "outputs": [
    {
     "data": {
      "image/png": "[encoded data removed]",
      "text/plain": [
       "<Figure size 432x288 with 1 Axes>"
      ]
     },
     "metadata": {
      "needs_background": "light"
     },
     "output_type": "display_data"
    }
   ],
   "source": [
    "for i in passenger_classes :\n",
    "        df.Age_complete[df.Pclass==i].plot(kind='density')\n",
    "plt.title('Age Density Plots by passenger Class')\n",
    "plt.xlabel('Age')\n",
    "plt.legend(('1st Class', '2nd Class', '3rd Class'), loc='best')\n",
    "plt.show()"
   ]
  },
  {
   "cell_type": "markdown",
   "id": "grave-destiny",
   "metadata": {
    "papermill": {
     "duration": 0.037989,
     "end_time": "2021-05-18T13:01:39.290215",
     "exception": false,
     "start_time": "2021-05-18T13:01:39.252226",
     "status": "completed"
    },
    "tags": []
   },
   "source": [
    "Thus we see the first class passengers were generally older then second class passengers, which in turn were older than third class passengers.\n",
    "\n",
    "**Feature5 : Family Size**\n",
    "\n",
    "We define a new feature FamilySize that is the sum of Parch (number of parents or children on board) and SibSp (number of siblings or spouses):"
   ]
  },
  {
   "cell_type": "code",
   "execution_count": 22,
   "id": "portable-approach",
   "metadata": {
    "execution": {
     "iopub.execute_input": "2021-05-18T13:01:39.392711Z",
     "iopub.status.busy": "2021-05-18T13:01:39.391749Z",
     "iopub.status.idle": "2021-05-18T13:01:39.504729Z",
     "shell.execute_reply": "2021-05-18T13:01:39.505147Z"
    },
    "papermill": {
     "duration": 0.177107,
     "end_time": "2021-05-18T13:01:39.505327",
     "exception": false,
     "start_time": "2021-05-18T13:01:39.328220",
     "status": "completed"
    },
    "tags": []
   },
   "outputs": [
    {
     "data": {
      "image/png": "[encoded data removed]",
      "text/plain": [
       "<Figure size 432x288 with 1 Axes>"
      ]
     },
     "metadata": {
      "needs_background": "light"
     },
     "output_type": "display_data"
    }
   ],
   "source": [
    "df['Family_Size'] = df['SibSp'] + df['Parch']\n",
    "df['Family_Size'].hist(bins=10)\n",
    "plt.xlabel('Family Size')\n",
    "plt.ylabel('No. of families')\n",
    "plt.title('Family Size Histogram')\n",
    "plt.show()"
   ]
  },
  {
   "cell_type": "code",
   "execution_count": 23,
   "id": "seasonal-walnut",
   "metadata": {
    "execution": {
     "iopub.execute_input": "2021-05-18T13:01:39.592098Z",
     "iopub.status.busy": "2021-05-18T13:01:39.591464Z",
     "iopub.status.idle": "2021-05-18T13:01:39.770530Z",
     "shell.execute_reply": "2021-05-18T13:01:39.770010Z"
    },
    "papermill": {
     "duration": 0.227166,
     "end_time": "2021-05-18T13:01:39.770675",
     "exception": false,
     "start_time": "2021-05-18T13:01:39.543509",
     "status": "completed"
    },
    "tags": []
   },
   "outputs": [
    {
     "data": {
      "image/png": "[encoded data removed]",
      "text/plain": [
       "<Figure size 432x288 with 1 Axes>"
      ]
     },
     "metadata": {
      "needs_background": "light"
     },
     "output_type": "display_data"
    }
   ],
   "source": [
    "family_sizes=sorted(df['Family_Size'].unique())\n",
    "family_sizes_max=max(family_sizes)\n",
    "family_size_survived=df[df['Survived']==1]['Family_Size']\n",
    "family_size_not_survived=df[df['Survived']==0]['Family_Size']\n",
    "plt.hist([family_size_survived,family_size_not_survived],bins=family_sizes_max+1,range=(0, family_sizes_max),stacked=True)\n",
    "plt.legend(('Died', 'Survived'), loc='best')\n",
    "plt.xlabel('Family size')\n",
    "plt.ylabel('No. of families')\n",
    "plt.title('Survivors by Family Size')\n",
    "plt.show()"
   ]
  },
  {
   "cell_type": "markdown",
   "id": "gentle-mattress",
   "metadata": {
    "papermill": {
     "duration": 0.040223,
     "end_time": "2021-05-18T13:01:39.851319",
     "exception": false,
     "start_time": "2021-05-18T13:01:39.811096",
     "status": "completed"
    },
    "tags": []
   },
   "source": [
    "**Data for machine learning**\n",
    "\n",
    "We drop the columns having strings in it or those which we have used like we remove SibSp and Parch as we use Family_Size which has the attributes of both of them."
   ]
  },
  {
   "cell_type": "code",
   "execution_count": 24,
   "id": "alike-lottery",
   "metadata": {
    "execution": {
     "iopub.execute_input": "2021-05-18T13:01:39.949350Z",
     "iopub.status.busy": "2021-05-18T13:01:39.948752Z",
     "iopub.status.idle": "2021-05-18T13:01:39.952762Z",
     "shell.execute_reply": "2021-05-18T13:01:39.952287Z"
    },
    "papermill": {
     "duration": 0.059971,
     "end_time": "2021-05-18T13:01:39.952905",
     "exception": false,
     "start_time": "2021-05-18T13:01:39.892934",
     "status": "completed"
    },
    "tags": []
   },
   "outputs": [
    {
     "data": {
      "text/html": [
       "<div>\n",
       "<style scoped>\n",
       "    .dataframe tbody tr th:only-of-type {\n",
       "        vertical-align: middle;\n",
       "    }\n",
       "\n",
       "    .dataframe tbody tr th {\n",
       "        vertical-align: top;\n",
       "    }\n",
       "\n",
       "    .dataframe thead th {\n",
       "        text-align: right;\n",
       "    }\n",
       "</style>\n",
       "<table border=\"1\" class=\"dataframe\">\n",
       "  <thead>\n",
       "    <tr style=\"text-align: right;\">\n",
       "      <th></th>\n",
       "      <th>Survived</th>\n",
       "      <th>Pclass</th>\n",
       "      <th>Fare</th>\n",
       "      <th>Sex_Val</th>\n",
       "      <th>Age_complete</th>\n",
       "      <th>Family_Size</th>\n",
       "    </tr>\n",
       "  </thead>\n",
       "  <tbody>\n",
       "    <tr>\n",
       "      <th>0</th>\n",
       "      <td>0</td>\n",
       "      <td>3</td>\n",
       "      <td>7.2500</td>\n",
       "      <td>1</td>\n",
       "      <td>22.0</td>\n",
       "      <td>1</td>\n",
       "    </tr>\n",
       "    <tr>\n",
       "      <th>1</th>\n",
       "      <td>1</td>\n",
       "      <td>1</td>\n",
       "      <td>71.2833</td>\n",
       "      <td>0</td>\n",
       "      <td>38.0</td>\n",
       "      <td>1</td>\n",
       "    </tr>\n",
       "    <tr>\n",
       "      <th>2</th>\n",
       "      <td>1</td>\n",
       "      <td>3</td>\n",
       "      <td>7.9250</td>\n",
       "      <td>0</td>\n",
       "      <td>26.0</td>\n",
       "      <td>0</td>\n",
       "    </tr>\n",
       "    <tr>\n",
       "      <th>3</th>\n",
       "      <td>1</td>\n",
       "      <td>1</td>\n",
       "      <td>53.1000</td>\n",
       "      <td>0</td>\n",
       "      <td>35.0</td>\n",
       "      <td>1</td>\n",
       "    </tr>\n",
       "    <tr>\n",
       "      <th>4</th>\n",
       "      <td>0</td>\n",
       "      <td>3</td>\n",
       "      <td>8.0500</td>\n",
       "      <td>1</td>\n",
       "      <td>35.0</td>\n",
       "      <td>0</td>\n",
       "    </tr>\n",
       "    <tr>\n",
       "      <th>5</th>\n",
       "      <td>0</td>\n",
       "      <td>3</td>\n",
       "      <td>8.4583</td>\n",
       "      <td>1</td>\n",
       "      <td>25.0</td>\n",
       "      <td>0</td>\n",
       "    </tr>\n",
       "    <tr>\n",
       "      <th>6</th>\n",
       "      <td>0</td>\n",
       "      <td>1</td>\n",
       "      <td>51.8625</td>\n",
       "      <td>1</td>\n",
       "      <td>54.0</td>\n",
       "      <td>0</td>\n",
       "    </tr>\n",
       "    <tr>\n",
       "      <th>7</th>\n",
       "      <td>0</td>\n",
       "      <td>3</td>\n",
       "      <td>21.0750</td>\n",
       "      <td>1</td>\n",
       "      <td>2.0</td>\n",
       "      <td>4</td>\n",
       "    </tr>\n",
       "    <tr>\n",
       "      <th>8</th>\n",
       "      <td>1</td>\n",
       "      <td>3</td>\n",
       "      <td>11.1333</td>\n",
       "      <td>0</td>\n",
       "      <td>27.0</td>\n",
       "      <td>2</td>\n",
       "    </tr>\n",
       "    <tr>\n",
       "      <th>9</th>\n",
       "      <td>1</td>\n",
       "      <td>2</td>\n",
       "      <td>30.0708</td>\n",
       "      <td>0</td>\n",
       "      <td>14.0</td>\n",
       "      <td>1</td>\n",
       "    </tr>\n",
       "  </tbody>\n",
       "</table>\n",
       "</div>"
      ],
      "text/plain": [
       "   Survived  Pclass     Fare  Sex_Val  Age_complete  Family_Size\n",
       "0         0       3   7.2500        1          22.0            1\n",
       "1         1       1  71.2833        0          38.0            1\n",
       "2         1       3   7.9250        0          26.0            0\n",
       "3         1       1  53.1000        0          35.0            1\n",
       "4         0       3   8.0500        1          35.0            0\n",
       "5         0       3   8.4583        1          25.0            0\n",
       "6         0       1  51.8625        1          54.0            0\n",
       "7         0       3  21.0750        1           2.0            4\n",
       "8         1       3  11.1333        0          27.0            2\n",
       "9         1       2  30.0708        0          14.0            1"
      ]
     },
     "execution_count": 24,
     "metadata": {},
     "output_type": "execute_result"
    }
   ],
   "source": [
    "df.dtypes[df.dtypes.map(lambda x: x == 'object')]\n",
    "df=df.drop(['Name','Sex','Ticket','Cabin','Embarked','SibSp','Parch','PassengerId','Age','Embarked_Value'],axis=1)\n",
    "df.head(10)"
   ]
  },
  {
   "cell_type": "markdown",
   "id": "czech-springfield",
   "metadata": {
    "papermill": {
     "duration": 0.041715,
     "end_time": "2021-05-18T13:01:40.036004",
     "exception": false,
     "start_time": "2021-05-18T13:01:39.994289",
     "status": "completed"
    },
    "tags": []
   },
   "source": [
    "It is a summary of the operations we performed on our training data set. We encapsulate this in a function since we'll need to do the same operations to our test set later."
   ]
  },
  {
   "cell_type": "code",
   "execution_count": 25,
   "id": "covered-vault",
   "metadata": {
    "execution": {
     "iopub.execute_input": "2021-05-18T13:01:40.131586Z",
     "iopub.status.busy": "2021-05-18T13:01:40.130955Z",
     "iopub.status.idle": "2021-05-18T13:01:40.132997Z",
     "shell.execute_reply": "2021-05-18T13:01:40.133474Z"
    },
    "papermill": {
     "duration": 0.054555,
     "end_time": "2021-05-18T13:01:40.133674",
     "exception": false,
     "start_time": "2021-05-18T13:01:40.079119",
     "status": "completed"
    },
    "tags": []
   },
   "outputs": [],
   "source": [
    "def data_prep(df_given):\n",
    "    # Get the unique values of Sex\n",
    "    sexes = sorted(df_given['Sex'].unique())\n",
    "    # Generate a mapping of Sex from a string to a number representation    \n",
    "    genders_mapping = dict(zip(sexes, range(0, len(sexes) + 1)))\n",
    "   # Transform Sex from a string to a number representation\n",
    "    df_given['Sex_Val'] = df_given['Sex'].map(genders_mapping).astype(int)\n",
    "        # Get the unique values of Embarked\n",
    "    df_given['Embarked_Value']=df_given['Embarked']\n",
    "    df_given['Embarked_Value'].replace(['C','Q','S'],[1,2,3],inplace=True)\n",
    "    df_given['Embarked_Value']=df_given['Embarked_Value'].fillna(3)\n",
    "   # embarked_locs = sorted(df_given['Embarked_Value'].unique())\n",
    "    # Fill in missing values of Fare with the average Fare\n",
    "    if len(df_given[df_given['Fare'].isnull()]) > 0:\n",
    "        avg_fare = df_given['Fare'].mean()\n",
    "        df_given['Fare'].fillna(avg_fare, inplace=True)\n",
    "    df_given['Age_complete'] = df_given['Age']\n",
    "    df_given['Age_complete']=df_given['Age_complete'].groupby([df_given['Sex_Val'],df_given['Pclass']]).apply(lambda x: x.fillna(x.median()))\n",
    "    df_given['Family_Size'] = df_given['SibSp'] + df_given['Parch']\n",
    "    # Drop the columns we won't use:\n",
    "    # Drop the Age column since we will be using the Age_omplete column instead.\n",
    "    # Drop the SibSp and Parch columns since we will be using Family_Size.\n",
    "    # Drop the PassengerId column since it won't be used as a feature.\n",
    "    df_given=df_given.drop(['Name','Sex','Ticket','Cabin','Embarked','SibSp','Parch','PassengerId','Age','Embarked_Value'],axis=1)#axis=1 means columns\n",
    "    #if drop_passenger_id:\n",
    "     #   df_given = df_given.drop(['PassengerId'], axis=1)\n",
    "    \n",
    "    return df_given"
   ]
  },
  {
   "cell_type": "markdown",
   "id": "czech-spice",
   "metadata": {
    "papermill": {
     "duration": 0.039639,
     "end_time": "2021-05-18T13:01:40.215102",
     "exception": false,
     "start_time": "2021-05-18T13:01:40.175463",
     "status": "completed"
    },
    "tags": []
   },
   "source": [
    "We store the data as numpy array to perform machine learning algorithms."
   ]
  },
  {
   "cell_type": "code",
   "execution_count": 26,
   "id": "gothic-economy",
   "metadata": {
    "execution": {
     "iopub.execute_input": "2021-05-18T13:01:40.298953Z",
     "iopub.status.busy": "2021-05-18T13:01:40.298346Z",
     "iopub.status.idle": "2021-05-18T13:01:40.302959Z",
     "shell.execute_reply": "2021-05-18T13:01:40.302519Z"
    },
    "papermill": {
     "duration": 0.046786,
     "end_time": "2021-05-18T13:01:40.303085",
     "exception": false,
     "start_time": "2021-05-18T13:01:40.256299",
     "status": "completed"
    },
    "tags": []
   },
   "outputs": [],
   "source": [
    "train_data=df.values"
   ]
  },
  {
   "cell_type": "markdown",
   "id": "constitutional-arizona",
   "metadata": {
    "papermill": {
     "duration": 0.039294,
     "end_time": "2021-05-18T13:01:40.382373",
     "exception": false,
     "start_time": "2021-05-18T13:01:40.343079",
     "status": "completed"
    },
    "tags": []
   },
   "source": [
    "**Naive_Bayes Classifier**"
   ]
  },
  {
   "cell_type": "code",
   "execution_count": 27,
   "id": "perfect-quarter",
   "metadata": {
    "execution": {
     "iopub.execute_input": "2021-05-18T13:01:40.465222Z",
     "iopub.status.busy": "2021-05-18T13:01:40.464575Z",
     "iopub.status.idle": "2021-05-18T13:01:40.466371Z",
     "shell.execute_reply": "2021-05-18T13:01:40.466893Z"
    },
    "papermill": {
     "duration": 0.045423,
     "end_time": "2021-05-18T13:01:40.467056",
     "exception": false,
     "start_time": "2021-05-18T13:01:40.421633",
     "status": "completed"
    },
    "tags": []
   },
   "outputs": [],
   "source": [
    "clf = GaussianNB()"
   ]
  },
  {
   "cell_type": "markdown",
   "id": "gorgeous-adobe",
   "metadata": {
    "papermill": {
     "duration": 0.039105,
     "end_time": "2021-05-18T13:01:40.545811",
     "exception": false,
     "start_time": "2021-05-18T13:01:40.506706",
     "status": "completed"
    },
    "tags": []
   },
   "source": [
    "train_features includes all the columns except the Survived. train_target includes the Survived column."
   ]
  },
  {
   "cell_type": "code",
   "execution_count": 28,
   "id": "informal-scope",
   "metadata": {
    "execution": {
     "iopub.execute_input": "2021-05-18T13:01:40.630182Z",
     "iopub.status.busy": "2021-05-18T13:01:40.629629Z",
     "iopub.status.idle": "2021-05-18T13:01:40.631440Z",
     "shell.execute_reply": "2021-05-18T13:01:40.631804Z"
    },
    "papermill": {
     "duration": 0.046241,
     "end_time": "2021-05-18T13:01:40.631964",
     "exception": false,
     "start_time": "2021-05-18T13:01:40.585723",
     "status": "completed"
    },
    "tags": []
   },
   "outputs": [],
   "source": [
    "train_features = train_data[:, 1:]\n",
    "train_target = train_data[:, 0]"
   ]
  },
  {
   "cell_type": "markdown",
   "id": "thick-notion",
   "metadata": {
    "papermill": {
     "duration": 0.039143,
     "end_time": "2021-05-18T13:01:40.711402",
     "exception": false,
     "start_time": "2021-05-18T13:01:40.672259",
     "status": "completed"
    },
    "tags": []
   },
   "source": [
    "We fit the classifier\n",
    "\n",
    "Reading and converting the test data to numpy array"
   ]
  },
  {
   "cell_type": "code",
   "execution_count": 29,
   "id": "generous-speaker",
   "metadata": {
    "execution": {
     "iopub.execute_input": "2021-05-18T13:01:40.794233Z",
     "iopub.status.busy": "2021-05-18T13:01:40.793687Z",
     "iopub.status.idle": "2021-05-18T13:01:40.823564Z",
     "shell.execute_reply": "2021-05-18T13:01:40.823086Z"
    },
    "papermill": {
     "duration": 0.073311,
     "end_time": "2021-05-18T13:01:40.823713",
     "exception": false,
     "start_time": "2021-05-18T13:01:40.750402",
     "status": "completed"
    },
    "tags": []
   },
   "outputs": [],
   "source": [
    "df_test1 = pd.read_csv(\"../input/titanic/test.csv\")    \n",
    "df_test = data_prep(df_test1)\n",
    "test_x1 = df_test.values"
   ]
  },
  {
   "cell_type": "markdown",
   "id": "amber-pantyhose",
   "metadata": {
    "papermill": {
     "duration": 0.038874,
     "end_time": "2021-05-18T13:01:40.901511",
     "exception": false,
     "start_time": "2021-05-18T13:01:40.862637",
     "status": "completed"
    },
    "tags": []
   },
   "source": [
    "test_y1 is the predicted Survival values of the test data and thus our answer.\n",
    "\n",
    "Now we check the accuracy of our databy training with 80% of our data and testing on rest 20%"
   ]
  },
  {
   "cell_type": "code",
   "execution_count": 30,
   "id": "popular-volume",
   "metadata": {
    "execution": {
     "iopub.execute_input": "2021-05-18T13:01:40.985212Z",
     "iopub.status.busy": "2021-05-18T13:01:40.984315Z",
     "iopub.status.idle": "2021-05-18T13:01:40.989166Z",
     "shell.execute_reply": "2021-05-18T13:01:40.988766Z"
    },
    "papermill": {
     "duration": 0.049095,
     "end_time": "2021-05-18T13:01:40.989327",
     "exception": false,
     "start_time": "2021-05-18T13:01:40.940232",
     "status": "completed"
    },
    "tags": []
   },
   "outputs": [
    {
     "name": "stdout",
     "output_type": "stream",
     "text": [
      "(891, 5) (891,)\n",
      "(712, 5) (712,)\n",
      "(179, 5) (179,)\n"
     ]
    }
   ],
   "source": [
    "from sklearn import metrics\n",
    "from sklearn.model_selection import train_test_split\n",
    "# Split 80-20 train vs test data\n",
    "train_x, test_x, train_y, test_y = train_test_split(train_features, train_target, test_size=0.20, random_state=0)\n",
    "print (train_features.shape, train_target.shape)\n",
    "print (train_x.shape, train_y.shape)\n",
    "print (test_x.shape, test_y.shape)"
   ]
  },
  {
   "cell_type": "markdown",
   "id": "fleet-elements",
   "metadata": {
    "papermill": {
     "duration": 0.041885,
     "end_time": "2021-05-18T13:01:41.074024",
     "exception": false,
     "start_time": "2021-05-18T13:01:41.032139",
     "status": "completed"
    },
    "tags": []
   },
   "source": [
    "train_test_split here means that train_x and test_x are made from train_features and train_y and test_y are made from train_target"
   ]
  },
  {
   "cell_type": "code",
   "execution_count": 31,
   "id": "certified-austin",
   "metadata": {
    "execution": {
     "iopub.execute_input": "2021-05-18T13:01:41.161541Z",
     "iopub.status.busy": "2021-05-18T13:01:41.160557Z",
     "iopub.status.idle": "2021-05-18T13:01:41.167221Z",
     "shell.execute_reply": "2021-05-18T13:01:41.166664Z"
    },
    "papermill": {
     "duration": 0.052441,
     "end_time": "2021-05-18T13:01:41.167364",
     "exception": false,
     "start_time": "2021-05-18T13:01:41.114923",
     "status": "completed"
    },
    "tags": []
   },
   "outputs": [
    {
     "name": "stdout",
     "output_type": "stream",
     "text": [
      "Naive Bayes Accuracy = 0.82\n"
     ]
    }
   ],
   "source": [
    "clf = clf.fit(train_x, train_y)\n",
    "predict_y = clf.predict(test_x)\n",
    "from sklearn.metrics import accuracy_score\n",
    "print (\"Naive Bayes Accuracy = %.2f\" % (accuracy_score(test_y, predict_y)))"
   ]
  },
  {
   "cell_type": "code",
   "execution_count": 32,
   "id": "beautiful-williams",
   "metadata": {
    "execution": {
     "iopub.execute_input": "2021-05-18T13:01:41.257116Z",
     "iopub.status.busy": "2021-05-18T13:01:41.256391Z",
     "iopub.status.idle": "2021-05-18T13:01:41.258923Z",
     "shell.execute_reply": "2021-05-18T13:01:41.259342Z"
    },
    "papermill": {
     "duration": 0.050965,
     "end_time": "2021-05-18T13:01:41.259506",
     "exception": false,
     "start_time": "2021-05-18T13:01:41.208541",
     "status": "completed"
    },
    "tags": []
   },
   "outputs": [
    {
     "data": {
      "text/plain": [
       "array([0., 1., 0., 0., 1., 0., 1., 0., 1., 0., 0., 0., 1., 0., 1., 1., 0.,\n",
       "       0., 1., 1., 0., 0., 1., 1., 1., 0., 1., 0., 0., 0., 0., 0., 1., 1.,\n",
       "       0., 0., 1., 1., 0., 0., 0., 0., 0., 1., 1., 0., 0., 0., 1., 1., 0.,\n",
       "       0., 1., 1., 0., 0., 0., 0., 0., 1., 0., 0., 0., 1., 1., 1., 1., 0.,\n",
       "       0., 1., 1., 0., 1., 0., 1., 1., 0., 1., 0., 1., 0., 1., 0., 0., 0.,\n",
       "       0., 1., 1., 1., 0., 1., 0., 1., 0., 0., 0., 1., 0., 1., 0., 1., 0.,\n",
       "       0., 0., 1., 0., 0., 0., 0., 0., 0., 1., 1., 1., 1., 0., 0., 1., 1.,\n",
       "       1., 1., 0., 1., 0., 0., 1., 0., 1., 0., 0., 0., 0., 0., 0., 0., 0.,\n",
       "       0., 0., 1., 0., 0., 1., 1., 0., 0., 0., 0., 0., 0., 0., 1., 0., 0.,\n",
       "       1., 0., 0., 1., 1., 0., 1., 1., 0., 1., 0., 0., 1., 0., 0., 1., 1.,\n",
       "       0., 0., 0., 0., 0., 1., 1., 0., 1., 1., 0., 1., 1., 0., 1., 0., 1.,\n",
       "       0., 0., 0., 0., 0., 0., 0., 0., 0., 1., 1., 0., 1., 1., 0., 1., 1.,\n",
       "       0., 0., 1., 0., 1., 0., 0., 0., 0., 1., 0., 0., 1., 1., 1., 0., 1.,\n",
       "       0., 1., 0., 1., 1., 0., 1., 0., 0., 0., 1., 0., 0., 1., 0., 1., 0.,\n",
       "       1., 1., 1., 1., 1., 0., 0., 0., 1., 0., 1., 1., 1., 0., 1., 0., 0.,\n",
       "       0., 0., 0., 1., 0., 0., 0., 1., 1., 0., 0., 0., 0., 1., 0., 1., 0.,\n",
       "       1., 1., 0., 1., 0., 0., 0., 0., 1., 0., 1., 1., 1., 0., 0., 1., 0.,\n",
       "       0., 0., 1., 0., 1., 0., 0., 1., 0., 0., 0., 0., 0., 0., 0., 1., 1.,\n",
       "       1., 0., 1., 1., 0., 0., 0., 1., 1., 1., 1., 0., 0., 0., 0., 0., 0.,\n",
       "       0., 1., 0., 1., 1., 0., 0., 1., 0., 0., 1., 0., 0., 0., 0., 0., 0.,\n",
       "       0., 0., 0., 1., 0., 1., 0., 1., 0., 1., 1., 0., 0., 0., 1., 0., 1.,\n",
       "       0., 0., 1., 0., 1., 1., 0., 1., 0., 0., 1., 1., 0., 0., 1., 0., 0.,\n",
       "       1., 1., 1., 0., 0., 0., 0., 0., 1., 1., 0., 1., 0., 0., 0., 0., 1.,\n",
       "       1., 0., 0., 0., 1., 0., 1., 0., 0., 1., 0., 1., 0., 0., 0., 0., 1.,\n",
       "       1., 1., 1., 1., 1., 0., 1., 0., 0., 0.])"
      ]
     },
     "execution_count": 32,
     "metadata": {},
     "output_type": "execute_result"
    }
   ],
   "source": [
    "test_y1 = clf.predict(test_x1)\n",
    "test_y1"
   ]
  },
  {
   "cell_type": "markdown",
   "id": "celtic-consumption",
   "metadata": {
    "papermill": {
     "duration": 0.041331,
     "end_time": "2021-05-18T13:01:41.342030",
     "exception": false,
     "start_time": "2021-05-18T13:01:41.300699",
     "status": "completed"
    },
    "tags": []
   },
   "source": [
    "test_y1 is the predicted values of our test data i.e. test_x1"
   ]
  },
  {
   "cell_type": "code",
   "execution_count": 33,
   "id": "boolean-respect",
   "metadata": {
    "execution": {
     "iopub.execute_input": "2021-05-18T13:01:41.426823Z",
     "iopub.status.busy": "2021-05-18T13:01:41.426218Z",
     "iopub.status.idle": "2021-05-18T13:01:41.436088Z",
     "shell.execute_reply": "2021-05-18T13:01:41.436580Z"
    },
    "papermill": {
     "duration": 0.053643,
     "end_time": "2021-05-18T13:01:41.436757",
     "exception": false,
     "start_time": "2021-05-18T13:01:41.383114",
     "status": "completed"
    },
    "tags": []
   },
   "outputs": [],
   "source": [
    "df_test1['Survived'] = test_y1\n",
    "df_test1[['PassengerId','Survived']].to_csv('submission1.csv',index=False)"
   ]
  },
  {
   "cell_type": "markdown",
   "id": "settled-constant",
   "metadata": {
    "papermill": {
     "duration": 0.039716,
     "end_time": "2021-05-18T13:01:41.518119",
     "exception": false,
     "start_time": "2021-05-18T13:01:41.478403",
     "status": "completed"
    },
    "tags": []
   },
   "source": [
    "**Random Forest**"
   ]
  },
  {
   "cell_type": "code",
   "execution_count": 34,
   "id": "agricultural-suffering",
   "metadata": {
    "execution": {
     "iopub.execute_input": "2021-05-18T13:01:41.601115Z",
     "iopub.status.busy": "2021-05-18T13:01:41.600548Z",
     "iopub.status.idle": "2021-05-18T13:01:43.341568Z",
     "shell.execute_reply": "2021-05-18T13:01:43.341064Z"
    },
    "papermill": {
     "duration": 1.78367,
     "end_time": "2021-05-18T13:01:43.341700",
     "exception": false,
     "start_time": "2021-05-18T13:01:41.558030",
     "status": "completed"
    },
    "tags": []
   },
   "outputs": [
    {
     "name": "stdout",
     "output_type": "stream",
     "text": [
      "RandomForest Accuracy = 0.84\n"
     ]
    }
   ],
   "source": [
    "RandomForest = RandomForestClassifier(n_estimators=1000)\n",
    "RandomForest.fit(train_x,train_y)\n",
    "predict_y = RandomForest.predict(test_x)\n",
    "print (\"RandomForest Accuracy = %.2f\" % (accuracy_score(test_y, predict_y)))"
   ]
  },
  {
   "cell_type": "code",
   "execution_count": 35,
   "id": "automotive-failure",
   "metadata": {
    "execution": {
     "iopub.execute_input": "2021-05-18T13:01:43.430334Z",
     "iopub.status.busy": "2021-05-18T13:01:43.428823Z",
     "iopub.status.idle": "2021-05-18T13:01:43.433128Z",
     "shell.execute_reply": "2021-05-18T13:01:43.432697Z"
    },
    "papermill": {
     "duration": 0.05,
     "end_time": "2021-05-18T13:01:43.433275",
     "exception": false,
     "start_time": "2021-05-18T13:01:43.383275",
     "status": "completed"
    },
    "tags": []
   },
   "outputs": [],
   "source": [
    "df_test1['Survived'] = test_y1\n",
    "df_test1[['PassengerId','Survived']].to_csv('submission2.csv',index=False)"
   ]
  }
 ],
 "metadata": {
  "kernelspec": {
   "display_name": "Python 3",
   "language": "python",
   "name": "python3"
  },
  "language_info": {
   "codemirror_mode": {
    "name": "ipython",
    "version": 3
   },
   "file_extension": ".py",
   "mimetype": "text/x-python",
   "name": "python",
   "nbconvert_exporter": "python",
   "pygments_lexer": "ipython3",
   "version": "3.7.10"
  },
  "papermill": {
   "default_parameters": {},
   "duration": 17.568395,
   "end_time": "2021-05-18T13:01:44.283300",
   "environment_variables": {},
   "exception": null,
   "input_path": "__notebook__.ipynb",
   "output_path": "__notebook__.ipynb",
   "parameters": {},
   "start_time": "2021-05-18T13:01:26.714905",
   "version": "2.3.3"
  }
 },
 "nbformat": 4,
 "nbformat_minor": 5
}
